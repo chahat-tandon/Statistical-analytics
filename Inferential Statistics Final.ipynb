{
 "cells": [
  {
   "cell_type": "markdown",
   "metadata": {},
   "source": [
    "# <b> Chi Square </b>"
   ]
  },
  {
   "cell_type": "code",
   "execution_count": 2,
   "metadata": {},
   "outputs": [
    {
     "data": {
      "text/html": [
       "<div>\n",
       "<style scoped>\n",
       "    .dataframe tbody tr th:only-of-type {\n",
       "        vertical-align: middle;\n",
       "    }\n",
       "\n",
       "    .dataframe tbody tr th {\n",
       "        vertical-align: top;\n",
       "    }\n",
       "\n",
       "    .dataframe thead th {\n",
       "        text-align: right;\n",
       "    }\n",
       "</style>\n",
       "<table border=\"1\" class=\"dataframe\">\n",
       "  <thead>\n",
       "    <tr style=\"text-align: right;\">\n",
       "      <th></th>\n",
       "      <th>age</th>\n",
       "      <th>sex</th>\n",
       "      <th>cp</th>\n",
       "      <th>trestbps</th>\n",
       "      <th>chol</th>\n",
       "      <th>fbs</th>\n",
       "      <th>restecg</th>\n",
       "      <th>thalach</th>\n",
       "      <th>exang</th>\n",
       "      <th>oldpeak</th>\n",
       "      <th>slope</th>\n",
       "      <th>ca</th>\n",
       "      <th>thal</th>\n",
       "      <th>target</th>\n",
       "    </tr>\n",
       "  </thead>\n",
       "  <tbody>\n",
       "    <tr>\n",
       "      <td>0</td>\n",
       "      <td>63</td>\n",
       "      <td>1</td>\n",
       "      <td>3</td>\n",
       "      <td>145</td>\n",
       "      <td>233</td>\n",
       "      <td>1</td>\n",
       "      <td>0</td>\n",
       "      <td>150</td>\n",
       "      <td>0</td>\n",
       "      <td>2.3</td>\n",
       "      <td>0</td>\n",
       "      <td>0</td>\n",
       "      <td>1</td>\n",
       "      <td>1</td>\n",
       "    </tr>\n",
       "    <tr>\n",
       "      <td>1</td>\n",
       "      <td>37</td>\n",
       "      <td>1</td>\n",
       "      <td>2</td>\n",
       "      <td>130</td>\n",
       "      <td>250</td>\n",
       "      <td>0</td>\n",
       "      <td>1</td>\n",
       "      <td>187</td>\n",
       "      <td>0</td>\n",
       "      <td>3.5</td>\n",
       "      <td>0</td>\n",
       "      <td>0</td>\n",
       "      <td>2</td>\n",
       "      <td>1</td>\n",
       "    </tr>\n",
       "    <tr>\n",
       "      <td>2</td>\n",
       "      <td>41</td>\n",
       "      <td>0</td>\n",
       "      <td>1</td>\n",
       "      <td>130</td>\n",
       "      <td>204</td>\n",
       "      <td>0</td>\n",
       "      <td>0</td>\n",
       "      <td>172</td>\n",
       "      <td>0</td>\n",
       "      <td>1.4</td>\n",
       "      <td>2</td>\n",
       "      <td>0</td>\n",
       "      <td>2</td>\n",
       "      <td>1</td>\n",
       "    </tr>\n",
       "    <tr>\n",
       "      <td>3</td>\n",
       "      <td>56</td>\n",
       "      <td>1</td>\n",
       "      <td>1</td>\n",
       "      <td>120</td>\n",
       "      <td>236</td>\n",
       "      <td>0</td>\n",
       "      <td>1</td>\n",
       "      <td>178</td>\n",
       "      <td>0</td>\n",
       "      <td>0.8</td>\n",
       "      <td>2</td>\n",
       "      <td>0</td>\n",
       "      <td>2</td>\n",
       "      <td>1</td>\n",
       "    </tr>\n",
       "    <tr>\n",
       "      <td>4</td>\n",
       "      <td>57</td>\n",
       "      <td>0</td>\n",
       "      <td>0</td>\n",
       "      <td>120</td>\n",
       "      <td>354</td>\n",
       "      <td>0</td>\n",
       "      <td>1</td>\n",
       "      <td>163</td>\n",
       "      <td>1</td>\n",
       "      <td>0.6</td>\n",
       "      <td>2</td>\n",
       "      <td>0</td>\n",
       "      <td>2</td>\n",
       "      <td>1</td>\n",
       "    </tr>\n",
       "  </tbody>\n",
       "</table>\n",
       "</div>"
      ],
      "text/plain": [
       "   age  sex  cp  trestbps  chol  fbs  restecg  thalach  exang  oldpeak  slope  \\\n",
       "0   63    1   3       145   233    1        0      150      0      2.3      0   \n",
       "1   37    1   2       130   250    0        1      187      0      3.5      0   \n",
       "2   41    0   1       130   204    0        0      172      0      1.4      2   \n",
       "3   56    1   1       120   236    0        1      178      0      0.8      2   \n",
       "4   57    0   0       120   354    0        1      163      1      0.6      2   \n",
       "\n",
       "   ca  thal  target  \n",
       "0   0     1       1  \n",
       "1   0     2       1  \n",
       "2   0     2       1  \n",
       "3   0     2       1  \n",
       "4   0     2       1  "
      ]
     },
     "execution_count": 2,
     "metadata": {},
     "output_type": "execute_result"
    }
   ],
   "source": [
    "from scipy.stats.contingency import expected_freq\n",
    "from scipy.stats import power_divergence\n",
    "import pandas as pd\n",
    "import numpy as np\n",
    "import warnings\n",
    "\n",
    "data = pd.read_csv('../E clerx/heart.csv')\n",
    "data.head()"
   ]
  },
  {
   "cell_type": "code",
   "execution_count": 3,
   "metadata": {},
   "outputs": [],
   "source": [
    "lambdas = [\n",
    "    'pearson', 'log-likelihood', 'freeman-tukey',\n",
    "    'mod-log-likelihood', 'neyman', 'cressie-read'\n",
    "]\n",
    "\n",
    "def chi2(data, x, y):    \n",
    "    observed = pd.crosstab(data[x], data[y])\n",
    "    expected = pd.DataFrame(expected_freq(observed))\n",
    "    expected.columns = observed.columns\n",
    "    expected.index = observed.index\n",
    "    \n",
    "    if (observed < 5).sum().sum() > 0 or (expected < 5).sum().sum() > 0:\n",
    "        # An often quoted guideline for the validity of this\n",
    "        # calculation is that the test should be used only if\n",
    "        # the observed and expected frequencies in each cell\n",
    "        # are at least 5. (from SciPy docs)\n",
    "        warnings.warn('Low count on observed or expected frequencies.')\n",
    "    \n",
    "    dof = expected.size - sum(expected.shape) + expected.ndim - 1\n",
    "    delta_dof = observed.size - 1 - dof\n",
    "    \n",
    "    if dof == 0:\n",
    "        tests = [{'lambda':'any', 'chi2':0, 'p':1}]\n",
    "    else:\n",
    "        if dof == 1:\n",
    "            # Adjust `observed` according to Yates' correction for continuity.\n",
    "            observed = observed + 0.5 * np.sign(expected - observed)\n",
    "        tests = []\n",
    "        for lambda_ in lambdas:\n",
    "            chi2, p = power_divergence(\n",
    "                observed, expected, ddof=delta_dof,\n",
    "                axis=None, lambda_=lambda_)\n",
    "            tests.append({'lambda':lambda_, 'chi2':chi2, 'p':p})\n",
    "    tests = pd.DataFrame(tests)[['lambda', 'chi2', 'p']]\n",
    "    return expected, observed, dof, tests"
   ]
  },
  {
   "cell_type": "markdown",
   "metadata": {},
   "source": [
    "# <b> Evaluating the sex column </b>"
   ]
  },
  {
   "cell_type": "code",
   "execution_count": 7,
   "metadata": {},
   "outputs": [
    {
     "data": {
      "text/plain": [
       "<matplotlib.axes._subplots.AxesSubplot at 0x1586880d3c8>"
      ]
     },
     "execution_count": 7,
     "metadata": {},
     "output_type": "execute_result"
    },
    {
     "data": {
      "image/png": "[encoded data removed]",
      "text/plain": [
       "<Figure size 432x288 with 1 Axes>"
      ]
     },
     "metadata": {
      "needs_background": "light"
     },
     "output_type": "display_data"
    }
   ],
   "source": [
    "data['sex'].value_counts(ascending=True).plot(kind='bar')"
   ]
  },
  {
   "cell_type": "markdown",
   "metadata": {},
   "source": [
    "# There are more men than women on the dataset. So, if the null hypothesis is true, we should expect proportionally more men with heart diseases than women"
   ]
  },
  {
   "cell_type": "code",
   "execution_count": 9,
   "metadata": {},
   "outputs": [],
   "source": [
    "expected, observed, dof, tests = chi2(data, 'sex', 'target')"
   ]
  },
  {
   "cell_type": "code",
   "execution_count": 10,
   "metadata": {},
   "outputs": [
    {
     "data": {
      "text/plain": [
       "<matplotlib.axes._subplots.AxesSubplot at 0x158698d7d48>"
      ]
     },
     "execution_count": 10,
     "metadata": {},
     "output_type": "execute_result"
    },
    {
     "data": {
      "image/png": "[encoded data removed]",
      "text/plain": [
       "<Figure size 432x288 with 1 Axes>"
      ]
     },
     "metadata": {
      "needs_background": "light"
     },
     "output_type": "display_data"
    }
   ],
   "source": [
    "expected.plot(kind='bar')"
   ]
  },
  {
   "cell_type": "markdown",
   "metadata": {},
   "source": [
    "# There is a noticeable difference. Women seem to be more vulnerable to heart diseases.\n",
    "\n",
    "The chi-squared hypothesis tests should be sensitive to this. Let's take a look."
   ]
  },
  {
   "cell_type": "code",
   "execution_count": 11,
   "metadata": {},
   "outputs": [
    {
     "data": {
      "text/html": [
       "<div>\n",
       "<style scoped>\n",
       "    .dataframe tbody tr th:only-of-type {\n",
       "        vertical-align: middle;\n",
       "    }\n",
       "\n",
       "    .dataframe tbody tr th {\n",
       "        vertical-align: top;\n",
       "    }\n",
       "\n",
       "    .dataframe thead th {\n",
       "        text-align: right;\n",
       "    }\n",
       "</style>\n",
       "<table border=\"1\" class=\"dataframe\">\n",
       "  <thead>\n",
       "    <tr style=\"text-align: right;\">\n",
       "      <th></th>\n",
       "      <th>lambda</th>\n",
       "      <th>chi2</th>\n",
       "      <th>p</th>\n",
       "    </tr>\n",
       "  </thead>\n",
       "  <tbody>\n",
       "    <tr>\n",
       "      <td>0</td>\n",
       "      <td>pearson</td>\n",
       "      <td>22.717227</td>\n",
       "      <td>1.876778e-06</td>\n",
       "    </tr>\n",
       "    <tr>\n",
       "      <td>1</td>\n",
       "      <td>log-likelihood</td>\n",
       "      <td>23.557374</td>\n",
       "      <td>1.212439e-06</td>\n",
       "    </tr>\n",
       "    <tr>\n",
       "      <td>2</td>\n",
       "      <td>freeman-tukey</td>\n",
       "      <td>24.219622</td>\n",
       "      <td>8.595211e-07</td>\n",
       "    </tr>\n",
       "    <tr>\n",
       "      <td>3</td>\n",
       "      <td>mod-log-likelihood</td>\n",
       "      <td>25.071078</td>\n",
       "      <td>5.525544e-07</td>\n",
       "    </tr>\n",
       "    <tr>\n",
       "      <td>4</td>\n",
       "      <td>neyman</td>\n",
       "      <td>27.457956</td>\n",
       "      <td>1.605471e-07</td>\n",
       "    </tr>\n",
       "    <tr>\n",
       "      <td>5</td>\n",
       "      <td>cressie-read</td>\n",
       "      <td>22.931427</td>\n",
       "      <td>1.678845e-06</td>\n",
       "    </tr>\n",
       "  </tbody>\n",
       "</table>\n",
       "</div>"
      ],
      "text/plain": [
       "               lambda       chi2             p\n",
       "0             pearson  22.717227  1.876778e-06\n",
       "1      log-likelihood  23.557374  1.212439e-06\n",
       "2       freeman-tukey  24.219622  8.595211e-07\n",
       "3  mod-log-likelihood  25.071078  5.525544e-07\n",
       "4              neyman  27.457956  1.605471e-07\n",
       "5        cressie-read  22.931427  1.678845e-06"
      ]
     },
     "execution_count": 11,
     "metadata": {},
     "output_type": "execute_result"
    }
   ],
   "source": [
    "tests"
   ]
  },
  {
   "cell_type": "markdown",
   "metadata": {},
   "source": [
    "### Very low p-values, indeed. The sex column qualifies as a good predictor for heart diseases on this dataset."
   ]
  },
  {
   "cell_type": "markdown",
   "metadata": {},
   "source": [
    "# Sampling Distribution and Central Limit Theorem"
   ]
  },
  {
   "cell_type": "code",
   "execution_count": 1,
   "metadata": {},
   "outputs": [
    {
     "name": "stdout",
     "output_type": "stream",
     "text": [
      "<class 'pandas.core.frame.DataFrame'>\n",
      "RangeIndex: 303 entries, 0 to 302\n",
      "Data columns (total 14 columns):\n",
      "age         303 non-null int64\n",
      "sex         303 non-null int64\n",
      "cp          303 non-null int64\n",
      "trestbps    303 non-null int64\n",
      "chol        303 non-null int64\n",
      "fbs         303 non-null int64\n",
      "restecg     303 non-null int64\n",
      "thalach     303 non-null int64\n",
      "exang       303 non-null int64\n",
      "oldpeak     303 non-null float64\n",
      "slope       303 non-null int64\n",
      "ca          303 non-null int64\n",
      "thal        303 non-null int64\n",
      "target      303 non-null int64\n",
      "dtypes: float64(1), int64(13)\n",
      "memory usage: 33.3 KB\n"
     ]
    },
    {
     "data": {
      "text/html": [
       "<div>\n",
       "<style scoped>\n",
       "    .dataframe tbody tr th:only-of-type {\n",
       "        vertical-align: middle;\n",
       "    }\n",
       "\n",
       "    .dataframe tbody tr th {\n",
       "        vertical-align: top;\n",
       "    }\n",
       "\n",
       "    .dataframe thead th {\n",
       "        text-align: right;\n",
       "    }\n",
       "</style>\n",
       "<table border=\"1\" class=\"dataframe\">\n",
       "  <thead>\n",
       "    <tr style=\"text-align: right;\">\n",
       "      <th></th>\n",
       "      <th>age</th>\n",
       "      <th>sex</th>\n",
       "      <th>cp</th>\n",
       "      <th>trestbps</th>\n",
       "      <th>chol</th>\n",
       "      <th>fbs</th>\n",
       "      <th>restecg</th>\n",
       "      <th>thalach</th>\n",
       "      <th>exang</th>\n",
       "      <th>oldpeak</th>\n",
       "      <th>slope</th>\n",
       "      <th>ca</th>\n",
       "      <th>thal</th>\n",
       "      <th>target</th>\n",
       "    </tr>\n",
       "  </thead>\n",
       "  <tbody>\n",
       "    <tr>\n",
       "      <td>0</td>\n",
       "      <td>63</td>\n",
       "      <td>1</td>\n",
       "      <td>3</td>\n",
       "      <td>145</td>\n",
       "      <td>233</td>\n",
       "      <td>1</td>\n",
       "      <td>0</td>\n",
       "      <td>150</td>\n",
       "      <td>0</td>\n",
       "      <td>2.3</td>\n",
       "      <td>0</td>\n",
       "      <td>0</td>\n",
       "      <td>1</td>\n",
       "      <td>1</td>\n",
       "    </tr>\n",
       "    <tr>\n",
       "      <td>1</td>\n",
       "      <td>37</td>\n",
       "      <td>1</td>\n",
       "      <td>2</td>\n",
       "      <td>130</td>\n",
       "      <td>250</td>\n",
       "      <td>0</td>\n",
       "      <td>1</td>\n",
       "      <td>187</td>\n",
       "      <td>0</td>\n",
       "      <td>3.5</td>\n",
       "      <td>0</td>\n",
       "      <td>0</td>\n",
       "      <td>2</td>\n",
       "      <td>1</td>\n",
       "    </tr>\n",
       "    <tr>\n",
       "      <td>2</td>\n",
       "      <td>41</td>\n",
       "      <td>0</td>\n",
       "      <td>1</td>\n",
       "      <td>130</td>\n",
       "      <td>204</td>\n",
       "      <td>0</td>\n",
       "      <td>0</td>\n",
       "      <td>172</td>\n",
       "      <td>0</td>\n",
       "      <td>1.4</td>\n",
       "      <td>2</td>\n",
       "      <td>0</td>\n",
       "      <td>2</td>\n",
       "      <td>1</td>\n",
       "    </tr>\n",
       "    <tr>\n",
       "      <td>3</td>\n",
       "      <td>56</td>\n",
       "      <td>1</td>\n",
       "      <td>1</td>\n",
       "      <td>120</td>\n",
       "      <td>236</td>\n",
       "      <td>0</td>\n",
       "      <td>1</td>\n",
       "      <td>178</td>\n",
       "      <td>0</td>\n",
       "      <td>0.8</td>\n",
       "      <td>2</td>\n",
       "      <td>0</td>\n",
       "      <td>2</td>\n",
       "      <td>1</td>\n",
       "    </tr>\n",
       "    <tr>\n",
       "      <td>4</td>\n",
       "      <td>57</td>\n",
       "      <td>0</td>\n",
       "      <td>0</td>\n",
       "      <td>120</td>\n",
       "      <td>354</td>\n",
       "      <td>0</td>\n",
       "      <td>1</td>\n",
       "      <td>163</td>\n",
       "      <td>1</td>\n",
       "      <td>0.6</td>\n",
       "      <td>2</td>\n",
       "      <td>0</td>\n",
       "      <td>2</td>\n",
       "      <td>1</td>\n",
       "    </tr>\n",
       "  </tbody>\n",
       "</table>\n",
       "</div>"
      ],
      "text/plain": [
       "   age  sex  cp  trestbps  chol  fbs  restecg  thalach  exang  oldpeak  slope  \\\n",
       "0   63    1   3       145   233    1        0      150      0      2.3      0   \n",
       "1   37    1   2       130   250    0        1      187      0      3.5      0   \n",
       "2   41    0   1       130   204    0        0      172      0      1.4      2   \n",
       "3   56    1   1       120   236    0        1      178      0      0.8      2   \n",
       "4   57    0   0       120   354    0        1      163      1      0.6      2   \n",
       "\n",
       "   ca  thal  target  \n",
       "0   0     1       1  \n",
       "1   0     2       1  \n",
       "2   0     2       1  \n",
       "3   0     2       1  \n",
       "4   0     2       1  "
      ]
     },
     "execution_count": 1,
     "metadata": {},
     "output_type": "execute_result"
    }
   ],
   "source": [
    "import numpy as np # linear algebra\n",
    "import pandas as pd # data processing, CSV file I/O (e.g. pd.read_csv)\n",
    "import matplotlib.pyplot as plt\n",
    "df = pd.read_csv(\"C:\\\\Users\\\\User\\\\Desktop\\\\Internship\\\\heart.csv\")\n",
    "df.info()\n",
    "df.head()"
   ]
  },
  {
   "cell_type": "markdown",
   "metadata": {},
   "source": [
    "### As, we could see all the columns have equal numbers of row data, hence, there is no missing data.\n",
    "\n",
    "### For illustration of Central Limit Theorem for sampling we will take \"chol\" cholestrol column.\n",
    "\n",
    "### We are assuming the column \"chol\" is normally distributed. Normally distributed means upon giving graphical representation produces a bell shaped distribution."
   ]
  },
  {
   "cell_type": "code",
   "execution_count": 2,
   "metadata": {},
   "outputs": [
    {
     "data": {
      "text/plain": [
       "count    303.000000\n",
       "mean     246.264026\n",
       "std       51.830751\n",
       "min      126.000000\n",
       "25%      211.000000\n",
       "50%      240.000000\n",
       "75%      274.500000\n",
       "max      564.000000\n",
       "Name: chol, dtype: float64"
      ]
     },
     "execution_count": 2,
     "metadata": {},
     "output_type": "execute_result"
    }
   ],
   "source": [
    "df_chol = df['chol']\n",
    "df_chol.describe()"
   ]
  },
  {
   "cell_type": "code",
   "execution_count": 3,
   "metadata": {},
   "outputs": [
    {
     "data": {
      "text/plain": [
       "246.26402640264027"
      ]
     },
     "execution_count": 3,
     "metadata": {},
     "output_type": "execute_result"
    }
   ],
   "source": [
    "# let's take out the mean of the chol data\n",
    "df_chol.mean()"
   ]
  },
  {
   "cell_type": "code",
   "execution_count": 4,
   "metadata": {},
   "outputs": [
    {
     "data": {
      "text/plain": [
       "<matplotlib.lines.Line2D at 0x16b163bc3c8>"
      ]
     },
     "execution_count": 4,
     "metadata": {},
     "output_type": "execute_result"
    },
    {
     "data": {
      "image/png": "[encoded data removed]",
      "text/plain": [
       "<Figure size 432x288 with 1 Axes>"
      ]
     },
     "metadata": {
      "needs_background": "light"
     },
     "output_type": "display_data"
    }
   ],
   "source": [
    "# plot all the observation in chol data\n",
    "plt.hist(df_chol, bins=100)\n",
    "\n",
    "plt.xlabel('cholestrol')\n",
    "plt.ylabel('frequency')\n",
    "plt.title('Histogram of Cholestrol frequency')\n",
    "plt.axvline(x=df_chol.mean(),color='r')"
   ]
  },
  {
   "cell_type": "markdown",
   "metadata": {},
   "source": [
    "#### 1. We can see the vertical red line, mean of data, almost at the centre of main distribution.\n",
    "#### 2. Most of the distribution is in normal but not 100%.\n",
    "#### 3. Here, the data point after the 500 on x-axis is an outlier, and the points around 400 maybe or maynot be an outlier since they are very close to out main distribution graph."
   ]
  },
  {
   "cell_type": "markdown",
   "metadata": {},
   "source": [
    "#### We can also see from the above plot that the population is not normal, right? Therefore, we need to draw sufficient samples of different sizes and compute their means (known as sample means). We will then plot those sample means to get a normal distribution.\n",
    "\n",
    "#### In our example,will draw 30 sample size (10% of total population), calculate thier mean"
   ]
  },
  {
   "cell_type": "code",
   "execution_count": 5,
   "metadata": {},
   "outputs": [
    {
     "data": {
      "text/plain": [
       "<matplotlib.lines.Line2D at 0x16b16709488>"
      ]
     },
     "execution_count": 5,
     "metadata": {},
     "output_type": "execute_result"
    },
    {
     "data": {
      "image/png": "[encoded data removed]",
      "text/plain": [
       "<Figure size 432x288 with 1 Axes>"
      ]
     },
     "metadata": {
      "needs_background": "light"
     },
     "output_type": "display_data"
    }
   ],
   "source": [
    "#We will take sample size=10, samples=300\n",
    "#Calculate the arithmetice mean and plot the mean of sample 300 times\n",
    "\n",
    "array = []\n",
    "n = 300\n",
    "for i in range(1,n):\n",
    "    array.append(df_chol.sample(n=30,replace= True).mean())\n",
    "\n",
    "#print(array)\n",
    "plt.hist(array, bins=100)\n",
    "\n",
    "plt.xlabel('cholestrol')\n",
    "plt.ylabel('frequency')\n",
    "plt.title('Histogram of Cholestrol frequency')\n",
    "plt.axvline(x=np.mean(array),color='r') # for giving mean line"
   ]
  },
  {
   "cell_type": "code",
   "execution_count": 6,
   "metadata": {},
   "outputs": [
    {
     "data": {
      "text/plain": [
       "<matplotlib.lines.Line2D at 0x16b16b6bd08>"
      ]
     },
     "execution_count": 6,
     "metadata": {},
     "output_type": "execute_result"
    },
    {
     "data": {
      "image/png": "[encoded data removed]",
      "text/plain": [
       "<Figure size 1296x360 with 3 Axes>"
      ]
     },
     "metadata": {
      "needs_background": "light"
     },
     "output_type": "display_data"
    }
   ],
   "source": [
    "#We will take sample size=20, 60 & 500 samples=300\n",
    "#Calculate the arithmetice mean and plot the mean of sample 300 times\n",
    "\n",
    "array1 = []\n",
    "array2 = []\n",
    "array3 = []\n",
    "n = 300\n",
    "for i in range(1,n):\n",
    "    array1.append(df_chol.sample(n=20,replace= True).mean())\n",
    "    array2.append(df_chol.sample(n=60,replace= True).mean())\n",
    "    array3.append(df_chol.sample(n=500,replace= True).mean())\n",
    "\n",
    "#print(array)\n",
    "fig , (ax1,ax2,ax3) = plt.subplots(nrows=1, ncols=3,figsize=(18,5))\n",
    "#plt.figure()\n",
    "\n",
    "#plt.subplot(311)\n",
    "ax1.hist(array1, bins=100,color='b')\n",
    "ax1.set_xlabel('cholestrol')\n",
    "ax1.set_ylabel('frequency')\n",
    "ax1.set_title('Sample size = 20')\n",
    "ax1.axvline(x=np.mean(array1),color='r') # for giving mean line\n",
    "\n",
    "#ax2.subplot(312)\n",
    "ax2.hist(array2, bins=100, color='g')\n",
    "ax2.set_xlabel('cholestrol')\n",
    "ax2.set_ylabel('frequency')\n",
    "ax2.set_title('Sample size = 60')\n",
    "ax2.axvline(x=np.mean(array2),color='r') # for giving mean line\n",
    "\n",
    "#ax3.subplot(313)\n",
    "ax3.hist(array3, bins=100)\n",
    "ax3.set_xlabel('cholestrol')\n",
    "ax3.set_ylabel('frequency')\n",
    "ax3.set_title('Sample size = 500')\n",
    "ax3.axvline(x=np.mean(array3),color='r') # for giving mean line"
   ]
  },
  {
   "cell_type": "markdown",
   "metadata": {},
   "source": [
    "### Here, we get a good bell-shaped curve and the sampling distribution approaches normal distribution as the sample sizes increase."
   ]
  },
  {
   "cell_type": "code",
   "execution_count": null,
   "metadata": {},
   "outputs": [],
   "source": [
    "#----------------------------------------------------------------------------------------------------------------------"
   ]
  },
  {
   "cell_type": "markdown",
   "metadata": {},
   "source": [
    "# Usage of Inferential Statistics to analyse NBA salaries"
   ]
  },
  {
   "cell_type": "markdown",
   "metadata": {},
   "source": [
    "## Importing Libraries and Reading Data"
   ]
  },
  {
   "cell_type": "code",
   "execution_count": 4,
   "metadata": {},
   "outputs": [],
   "source": [
    "#Libraries\n",
    "import pandas as pd\n",
    "import numpy as np\n",
    "import scipy.stats as st\n",
    "import matplotlib.pyplot as plt\n",
    "import seaborn as sns\n",
    "\n",
    "#Ignoring warnings\n",
    "import warnings\n",
    "warnings.filterwarnings(\"ignore\")"
   ]
  },
  {
   "cell_type": "code",
   "execution_count": 5,
   "metadata": {},
   "outputs": [
    {
     "data": {
      "text/html": [
       "<div>\n",
       "<style scoped>\n",
       "    .dataframe tbody tr th:only-of-type {\n",
       "        vertical-align: middle;\n",
       "    }\n",
       "\n",
       "    .dataframe tbody tr th {\n",
       "        vertical-align: top;\n",
       "    }\n",
       "\n",
       "    .dataframe thead th {\n",
       "        text-align: right;\n",
       "    }\n",
       "</style>\n",
       "<table border=\"1\" class=\"dataframe\">\n",
       "  <thead>\n",
       "    <tr style=\"text-align: right;\">\n",
       "      <th></th>\n",
       "      <th>Unnamed: 0</th>\n",
       "      <th>Player</th>\n",
       "      <th>Tm</th>\n",
       "      <th>season17_18</th>\n",
       "    </tr>\n",
       "  </thead>\n",
       "  <tbody>\n",
       "    <tr>\n",
       "      <td>0</td>\n",
       "      <td>1</td>\n",
       "      <td>Stephen Curry</td>\n",
       "      <td>GSW</td>\n",
       "      <td>34682550.0</td>\n",
       "    </tr>\n",
       "    <tr>\n",
       "      <td>1</td>\n",
       "      <td>2</td>\n",
       "      <td>LeBron James</td>\n",
       "      <td>CLE</td>\n",
       "      <td>33285709.0</td>\n",
       "    </tr>\n",
       "    <tr>\n",
       "      <td>2</td>\n",
       "      <td>3</td>\n",
       "      <td>Paul Millsap</td>\n",
       "      <td>DEN</td>\n",
       "      <td>31269231.0</td>\n",
       "    </tr>\n",
       "    <tr>\n",
       "      <td>3</td>\n",
       "      <td>4</td>\n",
       "      <td>Gordon Hayward</td>\n",
       "      <td>BOS</td>\n",
       "      <td>29727900.0</td>\n",
       "    </tr>\n",
       "    <tr>\n",
       "      <td>4</td>\n",
       "      <td>5</td>\n",
       "      <td>Blake Griffin</td>\n",
       "      <td>DET</td>\n",
       "      <td>29512900.0</td>\n",
       "    </tr>\n",
       "  </tbody>\n",
       "</table>\n",
       "</div>"
      ],
      "text/plain": [
       "   Unnamed: 0          Player   Tm  season17_18\n",
       "0           1   Stephen Curry  GSW   34682550.0\n",
       "1           2    LeBron James  CLE   33285709.0\n",
       "2           3    Paul Millsap  DEN   31269231.0\n",
       "3           4  Gordon Hayward  BOS   29727900.0\n",
       "4           5   Blake Griffin  DET   29512900.0"
      ]
     },
     "execution_count": 5,
     "metadata": {},
     "output_type": "execute_result"
    }
   ],
   "source": [
    "#Reading CSV Dataset\n",
    "df_NBA = pd.read_csv(r'../Downloads/NBA_season1718_salary.csv')\n",
    "df_NBA.head()\n"
   ]
  },
  {
   "cell_type": "code",
   "execution_count": 6,
   "metadata": {},
   "outputs": [
    {
     "name": "stdout",
     "output_type": "stream",
     "text": [
      "<class 'pandas.core.frame.DataFrame'>\n",
      "RangeIndex: 573 entries, 0 to 572\n",
      "Data columns (total 4 columns):\n",
      "Unnamed: 0     573 non-null int64\n",
      "Player         573 non-null object\n",
      "Tm             573 non-null object\n",
      "season17_18    573 non-null float64\n",
      "dtypes: float64(1), int64(1), object(2)\n",
      "memory usage: 18.0+ KB\n"
     ]
    }
   ],
   "source": [
    "#DF Key information\n",
    "df_NBA.info()\n"
   ]
  },
  {
   "cell_type": "code",
   "execution_count": 7,
   "metadata": {},
   "outputs": [
    {
     "data": {
      "text/html": [
       "<div>\n",
       "<style scoped>\n",
       "    .dataframe tbody tr th:only-of-type {\n",
       "        vertical-align: middle;\n",
       "    }\n",
       "\n",
       "    .dataframe tbody tr th {\n",
       "        vertical-align: top;\n",
       "    }\n",
       "\n",
       "    .dataframe thead th {\n",
       "        text-align: right;\n",
       "    }\n",
       "</style>\n",
       "<table border=\"1\" class=\"dataframe\">\n",
       "  <thead>\n",
       "    <tr style=\"text-align: right;\">\n",
       "      <th></th>\n",
       "      <th>player</th>\n",
       "      <th>team</th>\n",
       "      <th>salary</th>\n",
       "    </tr>\n",
       "  </thead>\n",
       "  <tbody>\n",
       "    <tr>\n",
       "      <td>0</td>\n",
       "      <td>Stephen Curry</td>\n",
       "      <td>GSW</td>\n",
       "      <td>34682550.0</td>\n",
       "    </tr>\n",
       "    <tr>\n",
       "      <td>1</td>\n",
       "      <td>LeBron James</td>\n",
       "      <td>CLE</td>\n",
       "      <td>33285709.0</td>\n",
       "    </tr>\n",
       "    <tr>\n",
       "      <td>2</td>\n",
       "      <td>Paul Millsap</td>\n",
       "      <td>DEN</td>\n",
       "      <td>31269231.0</td>\n",
       "    </tr>\n",
       "    <tr>\n",
       "      <td>3</td>\n",
       "      <td>Gordon Hayward</td>\n",
       "      <td>BOS</td>\n",
       "      <td>29727900.0</td>\n",
       "    </tr>\n",
       "    <tr>\n",
       "      <td>4</td>\n",
       "      <td>Blake Griffin</td>\n",
       "      <td>DET</td>\n",
       "      <td>29512900.0</td>\n",
       "    </tr>\n",
       "  </tbody>\n",
       "</table>\n",
       "</div>"
      ],
      "text/plain": [
       "           player team      salary\n",
       "0   Stephen Curry  GSW  34682550.0\n",
       "1    LeBron James  CLE  33285709.0\n",
       "2    Paul Millsap  DEN  31269231.0\n",
       "3  Gordon Hayward  BOS  29727900.0\n",
       "4   Blake Griffin  DET  29512900.0"
      ]
     },
     "execution_count": 7,
     "metadata": {},
     "output_type": "execute_result"
    }
   ],
   "source": [
    "#Renaming and deleting columns\n",
    "df_NBA.columns = ['cod', 'player', 'team', 'salary']\n",
    "del df_NBA['cod']\n",
    "df_NBA.head()\n"
   ]
  },
  {
   "cell_type": "markdown",
   "metadata": {},
   "source": [
    " \n",
    "## Visualizing players by team"
   ]
  },
  {
   "cell_type": "code",
   "execution_count": 8,
   "metadata": {},
   "outputs": [
    {
     "data": {
      "text/plain": [
       "<seaborn.axisgrid.FacetGrid at 0x24d11b3aac8>"
      ]
     },
     "execution_count": 8,
     "metadata": {},
     "output_type": "execute_result"
    },
    {
     "data": {
      "image/png": "[encoded data removed]",
      "text/plain": [
       "<Figure size 900x360 with 1 Axes>"
      ]
     },
     "metadata": {
      "needs_background": "light"
     },
     "output_type": "display_data"
    }
   ],
   "source": [
    "team_index = df_NBA['team'].value_counts()\n",
    "sns.catplot(data=df_NBA,\n",
    "            x='team',\n",
    "            order=team_index.index,\n",
    "            kind='count',\n",
    "            aspect=2.5,\n",
    "            palette='GnBu_d')"
   ]
  },
  {
   "cell_type": "markdown",
   "metadata": {},
   "source": [
    " ## Salary Distribution"
   ]
  },
  {
   "cell_type": "code",
   "execution_count": 9,
   "metadata": {},
   "outputs": [
    {
     "data": {
      "text/plain": [
       "<matplotlib.axes._subplots.AxesSubplot at 0x24d11e45c48>"
      ]
     },
     "execution_count": 9,
     "metadata": {},
     "output_type": "execute_result"
    },
    {
     "data": {
      "image/png": "[encoded data removed]",
      "text/plain": [
       "<Figure size 576x288 with 1 Axes>"
      ]
     },
     "metadata": {
      "needs_background": "light"
     },
     "output_type": "display_data"
    }
   ],
   "source": [
    "#Histogram and KDE\n",
    "plt.figure(figsize=(8, 4))\n",
    "sns.distplot(df_NBA['salary'], bins=40)\n"
   ]
  },
  {
   "cell_type": "code",
   "execution_count": 10,
   "metadata": {},
   "outputs": [
    {
     "data": {
      "image/png": "[encoded data removed]",
      "text/plain": [
       "<Figure size 576x288 with 1 Axes>"
      ]
     },
     "metadata": {
      "needs_background": "light"
     },
     "output_type": "display_data"
    }
   ],
   "source": [
    "#Probability Density Function (PDF) Chart\n",
    "x = df_NBA['salary']\n",
    "\n",
    "plt.figure(figsize=(8, 4))\n",
    "plt.plot(x, st.norm.pdf(x, x.mean(), x.std()))\n",
    "plt.show()\n"
   ]
  },
  {
   "cell_type": "markdown",
   "metadata": {},
   "source": [
    "## Normalizing the salary data"
   ]
  },
  {
   "cell_type": "code",
   "execution_count": 12,
   "metadata": {},
   "outputs": [
    {
     "data": {
      "text/plain": [
       "<matplotlib.axes._subplots.AxesSubplot at 0x24d1206e448>"
      ]
     },
     "execution_count": 12,
     "metadata": {},
     "output_type": "execute_result"
    },
    {
     "data": {
      "image/png": "[encoded data removed]",
      "text/plain": [
       "<Figure size 432x288 with 1 Axes>"
      ]
     },
     "metadata": {
      "needs_background": "light"
     },
     "output_type": "display_data"
    }
   ],
   "source": [
    "#Creating a column with the salary log to normalize the distribution\n",
    "df_NBA['salary_log'] = np.log1p(df_NBA['salary'])\n",
    "sns.distplot(df_NBA['salary_log'], bins=25)\n"
   ]
  },
  {
   "cell_type": "code",
   "execution_count": 13,
   "metadata": {},
   "outputs": [
    {
     "data": {
      "text/plain": [
       "<matplotlib.axes._subplots.AxesSubplot at 0x24d13284dc8>"
      ]
     },
     "execution_count": 13,
     "metadata": {},
     "output_type": "execute_result"
    },
    {
     "data": {
      "image/png": "[encoded data removed]",
      "text/plain": [
       "<Figure size 432x288 with 1 Axes>"
      ]
     },
     "metadata": {
      "needs_background": "light"
     },
     "output_type": "display_data"
    }
   ],
   "source": [
    "#Dividing by the mean and standard deviation to standardize the serie in a new column\n",
    "df_NBA['norm_log_salary'] = ((df_NBA['salary_log'] - df_NBA['salary_log'].mean()) / df_NBA['salary_log'].std())\n",
    "sns.distplot(df_NBA['norm_log_salary'], bins=25)\n"
   ]
  },
  {
   "cell_type": "markdown",
   "metadata": {},
   "source": [
    "## Mean and Standard Deviation "
   ]
  },
  {
   "cell_type": "code",
   "execution_count": 14,
   "metadata": {},
   "outputs": [
    {
     "name": "stdout",
     "output_type": "stream",
     "text": [
      "Mean: 0.0000\n",
      "Standard: 1.0000\n"
     ]
    }
   ],
   "source": [
    "print(f\"\"\"Mean: {df_NBA.norm_log_salary.mean():.4f}\n",
    "Standard: {df_NBA.norm_log_salary.std():.4f}\"\"\")\n"
   ]
  },
  {
   "cell_type": "markdown",
   "metadata": {},
   "source": [
    "## P-Value to 2 std"
   ]
  },
  {
   "cell_type": "code",
   "execution_count": 15,
   "metadata": {},
   "outputs": [
    {
     "data": {
      "text/plain": [
       "0.04550026389635878"
      ]
     },
     "execution_count": 15,
     "metadata": {},
     "output_type": "execute_result"
    }
   ],
   "source": [
    "norm_mean = df_NBA.norm_log_salary.mean()\n",
    "norm_std = df_NBA.norm_log_salary.std()\n",
    "\n",
    "p_value = st.norm(norm_mean, norm_std).sf(2*norm_std) * 2 #to sides\n",
    "p_value\n"
   ]
  },
  {
   "cell_type": "markdown",
   "metadata": {},
   "source": [
    "## Calculating z-score"
   ]
  },
  {
   "cell_type": "code",
   "execution_count": 16,
   "metadata": {},
   "outputs": [
    {
     "name": "stdout",
     "output_type": "stream",
     "text": [
      "-1.9600 <--------> 1.9600\n"
     ]
    }
   ],
   "source": [
    "z_score_inf = st.norm.interval(alpha=0.95, loc=norm_mean, scale=norm_std)[0]\n",
    "z_score_sup = st.norm.interval(alpha=0.95, loc=norm_mean, scale=norm_std)[1]\n",
    "\n",
    "print(f'{z_score_inf:.4f} <--------> {z_score_sup:.4f}')\n"
   ]
  },
  {
   "cell_type": "markdown",
   "metadata": {},
   "source": [
    "__With the Alpha limits of 0.95 we can run the inference and find out which players are earning above or below average with a 95% confidence level.__"
   ]
  },
  {
   "cell_type": "markdown",
   "metadata": {},
   "source": [
    "## Hypothesis:"
   ]
  },
  {
   "cell_type": "markdown",
   "metadata": {},
   "source": [
    "### __1. Lower than the average__"
   ]
  },
  {
   "cell_type": "code",
   "execution_count": 17,
   "metadata": {},
   "outputs": [
    {
     "data": {
      "text/html": [
       "<div>\n",
       "<style scoped>\n",
       "    .dataframe tbody tr th:only-of-type {\n",
       "        vertical-align: middle;\n",
       "    }\n",
       "\n",
       "    .dataframe tbody tr th {\n",
       "        vertical-align: top;\n",
       "    }\n",
       "\n",
       "    .dataframe thead th {\n",
       "        text-align: right;\n",
       "    }\n",
       "</style>\n",
       "<table border=\"1\" class=\"dataframe\">\n",
       "  <thead>\n",
       "    <tr style=\"text-align: right;\">\n",
       "      <th></th>\n",
       "      <th>player</th>\n",
       "      <th>team</th>\n",
       "      <th>salary</th>\n",
       "      <th>salary_log</th>\n",
       "      <th>norm_log_salary</th>\n",
       "    </tr>\n",
       "  </thead>\n",
       "  <tbody>\n",
       "    <tr>\n",
       "      <td>528</td>\n",
       "      <td>Demetrius Jackson</td>\n",
       "      <td>HOU</td>\n",
       "      <td>74159.0</td>\n",
       "      <td>11.213980</td>\n",
       "      <td>-1.988587</td>\n",
       "    </tr>\n",
       "    <tr>\n",
       "      <td>529</td>\n",
       "      <td>Georgios Papagiannis</td>\n",
       "      <td>POR</td>\n",
       "      <td>74159.0</td>\n",
       "      <td>11.213980</td>\n",
       "      <td>-1.988587</td>\n",
       "    </tr>\n",
       "    <tr>\n",
       "      <td>530</td>\n",
       "      <td>Larry Drew</td>\n",
       "      <td>NOP</td>\n",
       "      <td>74159.0</td>\n",
       "      <td>11.213980</td>\n",
       "      <td>-1.988587</td>\n",
       "    </tr>\n",
       "    <tr>\n",
       "      <td>531</td>\n",
       "      <td>Scotty Hopson</td>\n",
       "      <td>DAL</td>\n",
       "      <td>74159.0</td>\n",
       "      <td>11.213980</td>\n",
       "      <td>-1.988587</td>\n",
       "    </tr>\n",
       "    <tr>\n",
       "      <td>532</td>\n",
       "      <td>Isaiah Canaan</td>\n",
       "      <td>HOU</td>\n",
       "      <td>53465.0</td>\n",
       "      <td>10.886801</td>\n",
       "      <td>-2.179385</td>\n",
       "    </tr>\n",
       "    <tr>\n",
       "      <td>533</td>\n",
       "      <td>Tyler Cavanaugh</td>\n",
       "      <td>ATL</td>\n",
       "      <td>50000.0</td>\n",
       "      <td>10.819798</td>\n",
       "      <td>-2.218459</td>\n",
       "    </tr>\n",
       "    <tr>\n",
       "      <td>534</td>\n",
       "      <td>Kyle Collinsworth</td>\n",
       "      <td>DAL</td>\n",
       "      <td>50000.0</td>\n",
       "      <td>10.819798</td>\n",
       "      <td>-2.218459</td>\n",
       "    </tr>\n",
       "    <tr>\n",
       "      <td>535</td>\n",
       "      <td>Demetrius Jackson</td>\n",
       "      <td>HOU</td>\n",
       "      <td>50000.0</td>\n",
       "      <td>10.819798</td>\n",
       "      <td>-2.218459</td>\n",
       "    </tr>\n",
       "    <tr>\n",
       "      <td>536</td>\n",
       "      <td>Daniel Ochefu</td>\n",
       "      <td>WAS</td>\n",
       "      <td>50000.0</td>\n",
       "      <td>10.819798</td>\n",
       "      <td>-2.218459</td>\n",
       "    </tr>\n",
       "    <tr>\n",
       "      <td>537</td>\n",
       "      <td>Michael Young</td>\n",
       "      <td>WAS</td>\n",
       "      <td>50000.0</td>\n",
       "      <td>10.819798</td>\n",
       "      <td>-2.218459</td>\n",
       "    </tr>\n",
       "    <tr>\n",
       "      <td>538</td>\n",
       "      <td>Nate Wolters</td>\n",
       "      <td>UTA</td>\n",
       "      <td>50000.0</td>\n",
       "      <td>10.819798</td>\n",
       "      <td>-2.218459</td>\n",
       "    </tr>\n",
       "    <tr>\n",
       "      <td>539</td>\n",
       "      <td>Naz Mitrou-Long</td>\n",
       "      <td>UTA</td>\n",
       "      <td>50000.0</td>\n",
       "      <td>10.819798</td>\n",
       "      <td>-2.218459</td>\n",
       "    </tr>\n",
       "    <tr>\n",
       "      <td>540</td>\n",
       "      <td>Eric Griffin</td>\n",
       "      <td>UTA</td>\n",
       "      <td>50000.0</td>\n",
       "      <td>10.819798</td>\n",
       "      <td>-2.218459</td>\n",
       "    </tr>\n",
       "    <tr>\n",
       "      <td>541</td>\n",
       "      <td>Jacob Pullen</td>\n",
       "      <td>PHI</td>\n",
       "      <td>50000.0</td>\n",
       "      <td>10.819798</td>\n",
       "      <td>-2.218459</td>\n",
       "    </tr>\n",
       "    <tr>\n",
       "      <td>542</td>\n",
       "      <td>James Michael McAdoo</td>\n",
       "      <td>PHI</td>\n",
       "      <td>50000.0</td>\n",
       "      <td>10.819798</td>\n",
       "      <td>-2.218459</td>\n",
       "    </tr>\n",
       "    <tr>\n",
       "      <td>543</td>\n",
       "      <td>Nigel Hayes</td>\n",
       "      <td>NYK</td>\n",
       "      <td>50000.0</td>\n",
       "      <td>10.819798</td>\n",
       "      <td>-2.218459</td>\n",
       "    </tr>\n",
       "    <tr>\n",
       "      <td>544</td>\n",
       "      <td>Jalen Moore</td>\n",
       "      <td>MIL</td>\n",
       "      <td>50000.0</td>\n",
       "      <td>10.819798</td>\n",
       "      <td>-2.218459</td>\n",
       "    </tr>\n",
       "    <tr>\n",
       "      <td>545</td>\n",
       "      <td>Gary Payton</td>\n",
       "      <td>MIL</td>\n",
       "      <td>50000.0</td>\n",
       "      <td>10.819798</td>\n",
       "      <td>-2.218459</td>\n",
       "    </tr>\n",
       "    <tr>\n",
       "      <td>546</td>\n",
       "      <td>Matt Williams</td>\n",
       "      <td>MIA</td>\n",
       "      <td>50000.0</td>\n",
       "      <td>10.819798</td>\n",
       "      <td>-2.218459</td>\n",
       "    </tr>\n",
       "    <tr>\n",
       "      <td>547</td>\n",
       "      <td>Vince Hunter</td>\n",
       "      <td>MEM</td>\n",
       "      <td>50000.0</td>\n",
       "      <td>10.819798</td>\n",
       "      <td>-2.218459</td>\n",
       "    </tr>\n",
       "    <tr>\n",
       "      <td>548</td>\n",
       "      <td>Vander Blue</td>\n",
       "      <td>LAL</td>\n",
       "      <td>50000.0</td>\n",
       "      <td>10.819798</td>\n",
       "      <td>-2.218459</td>\n",
       "    </tr>\n",
       "    <tr>\n",
       "      <td>549</td>\n",
       "      <td>V.J. Beachem</td>\n",
       "      <td>LAL</td>\n",
       "      <td>50000.0</td>\n",
       "      <td>10.819798</td>\n",
       "      <td>-2.218459</td>\n",
       "    </tr>\n",
       "    <tr>\n",
       "      <td>550</td>\n",
       "      <td>Briante Weber</td>\n",
       "      <td>LAL</td>\n",
       "      <td>50000.0</td>\n",
       "      <td>10.819798</td>\n",
       "      <td>-2.218459</td>\n",
       "    </tr>\n",
       "    <tr>\n",
       "      <td>551</td>\n",
       "      <td>Jamil Wilson</td>\n",
       "      <td>LAC</td>\n",
       "      <td>50000.0</td>\n",
       "      <td>10.819798</td>\n",
       "      <td>-2.218459</td>\n",
       "    </tr>\n",
       "    <tr>\n",
       "      <td>552</td>\n",
       "      <td>Briante Weber</td>\n",
       "      <td>HOU</td>\n",
       "      <td>50000.0</td>\n",
       "      <td>10.819798</td>\n",
       "      <td>-2.218459</td>\n",
       "    </tr>\n",
       "    <tr>\n",
       "      <td>553</td>\n",
       "      <td>Luis Montero</td>\n",
       "      <td>DET</td>\n",
       "      <td>50000.0</td>\n",
       "      <td>10.819798</td>\n",
       "      <td>-2.218459</td>\n",
       "    </tr>\n",
       "    <tr>\n",
       "      <td>554</td>\n",
       "      <td>Gian Clavell</td>\n",
       "      <td>DAL</td>\n",
       "      <td>50000.0</td>\n",
       "      <td>10.819798</td>\n",
       "      <td>-2.218459</td>\n",
       "    </tr>\n",
       "    <tr>\n",
       "      <td>555</td>\n",
       "      <td>Antonius Cleveland</td>\n",
       "      <td>DAL</td>\n",
       "      <td>50000.0</td>\n",
       "      <td>10.819798</td>\n",
       "      <td>-2.218459</td>\n",
       "    </tr>\n",
       "    <tr>\n",
       "      <td>556</td>\n",
       "      <td>Diamond Stone</td>\n",
       "      <td>CHI</td>\n",
       "      <td>50000.0</td>\n",
       "      <td>10.819798</td>\n",
       "      <td>-2.218459</td>\n",
       "    </tr>\n",
       "    <tr>\n",
       "      <td>557</td>\n",
       "      <td>Yakuba Ouattara</td>\n",
       "      <td>BRK</td>\n",
       "      <td>50000.0</td>\n",
       "      <td>10.819798</td>\n",
       "      <td>-2.218459</td>\n",
       "    </tr>\n",
       "    <tr>\n",
       "      <td>558</td>\n",
       "      <td>Jeremy Evans</td>\n",
       "      <td>ATL</td>\n",
       "      <td>50000.0</td>\n",
       "      <td>10.819798</td>\n",
       "      <td>-2.218459</td>\n",
       "    </tr>\n",
       "    <tr>\n",
       "      <td>559</td>\n",
       "      <td>Nigel Hayes</td>\n",
       "      <td>LAL</td>\n",
       "      <td>46080.0</td>\n",
       "      <td>10.738156</td>\n",
       "      <td>-2.266070</td>\n",
       "    </tr>\n",
       "    <tr>\n",
       "      <td>560</td>\n",
       "      <td>Nigel Hayes</td>\n",
       "      <td>TOR</td>\n",
       "      <td>46080.0</td>\n",
       "      <td>10.738156</td>\n",
       "      <td>-2.266070</td>\n",
       "    </tr>\n",
       "    <tr>\n",
       "      <td>561</td>\n",
       "      <td>Rodney Purvis</td>\n",
       "      <td>ORL</td>\n",
       "      <td>46080.0</td>\n",
       "      <td>10.738156</td>\n",
       "      <td>-2.266070</td>\n",
       "    </tr>\n",
       "    <tr>\n",
       "      <td>562</td>\n",
       "      <td>Xavier Rathan-Mayes</td>\n",
       "      <td>MEM</td>\n",
       "      <td>46080.0</td>\n",
       "      <td>10.738156</td>\n",
       "      <td>-2.266070</td>\n",
       "    </tr>\n",
       "    <tr>\n",
       "      <td>563</td>\n",
       "      <td>Trey McKinney-Jones</td>\n",
       "      <td>IND</td>\n",
       "      <td>46080.0</td>\n",
       "      <td>10.738156</td>\n",
       "      <td>-2.266070</td>\n",
       "    </tr>\n",
       "    <tr>\n",
       "      <td>564</td>\n",
       "      <td>Jameel Warney</td>\n",
       "      <td>DAL</td>\n",
       "      <td>46080.0</td>\n",
       "      <td>10.738156</td>\n",
       "      <td>-2.266070</td>\n",
       "    </tr>\n",
       "    <tr>\n",
       "      <td>565</td>\n",
       "      <td>Marcus Thornton</td>\n",
       "      <td>CLE</td>\n",
       "      <td>46080.0</td>\n",
       "      <td>10.738156</td>\n",
       "      <td>-2.266070</td>\n",
       "    </tr>\n",
       "    <tr>\n",
       "      <td>566</td>\n",
       "      <td>DeAndre Liggins</td>\n",
       "      <td>ATL</td>\n",
       "      <td>26773.0</td>\n",
       "      <td>10.195187</td>\n",
       "      <td>-2.582709</td>\n",
       "    </tr>\n",
       "    <tr>\n",
       "      <td>567</td>\n",
       "      <td>Axel Toupane</td>\n",
       "      <td>NOP</td>\n",
       "      <td>25000.0</td>\n",
       "      <td>10.126671</td>\n",
       "      <td>-2.622664</td>\n",
       "    </tr>\n",
       "    <tr>\n",
       "      <td>568</td>\n",
       "      <td>Quinn Cook</td>\n",
       "      <td>NOP</td>\n",
       "      <td>25000.0</td>\n",
       "      <td>10.126671</td>\n",
       "      <td>-2.622664</td>\n",
       "    </tr>\n",
       "    <tr>\n",
       "      <td>569</td>\n",
       "      <td>Chris Johnson</td>\n",
       "      <td>HOU</td>\n",
       "      <td>25000.0</td>\n",
       "      <td>10.126671</td>\n",
       "      <td>-2.622664</td>\n",
       "    </tr>\n",
       "    <tr>\n",
       "      <td>570</td>\n",
       "      <td>Beno Udrih</td>\n",
       "      <td>DET</td>\n",
       "      <td>25000.0</td>\n",
       "      <td>10.126671</td>\n",
       "      <td>-2.622664</td>\n",
       "    </tr>\n",
       "    <tr>\n",
       "      <td>571</td>\n",
       "      <td>Joel Bolomboy</td>\n",
       "      <td>MIL</td>\n",
       "      <td>22248.0</td>\n",
       "      <td>10.010052</td>\n",
       "      <td>-2.690672</td>\n",
       "    </tr>\n",
       "    <tr>\n",
       "      <td>572</td>\n",
       "      <td>Jarell Eddie</td>\n",
       "      <td>CHI</td>\n",
       "      <td>17224.0</td>\n",
       "      <td>9.754117</td>\n",
       "      <td>-2.839924</td>\n",
       "    </tr>\n",
       "  </tbody>\n",
       "</table>\n",
       "</div>"
      ],
      "text/plain": [
       "                   player team   salary  salary_log  norm_log_salary\n",
       "528     Demetrius Jackson  HOU  74159.0   11.213980        -1.988587\n",
       "529  Georgios Papagiannis  POR  74159.0   11.213980        -1.988587\n",
       "530            Larry Drew  NOP  74159.0   11.213980        -1.988587\n",
       "531         Scotty Hopson  DAL  74159.0   11.213980        -1.988587\n",
       "532         Isaiah Canaan  HOU  53465.0   10.886801        -2.179385\n",
       "533       Tyler Cavanaugh  ATL  50000.0   10.819798        -2.218459\n",
       "534     Kyle Collinsworth  DAL  50000.0   10.819798        -2.218459\n",
       "535     Demetrius Jackson  HOU  50000.0   10.819798        -2.218459\n",
       "536         Daniel Ochefu  WAS  50000.0   10.819798        -2.218459\n",
       "537         Michael Young  WAS  50000.0   10.819798        -2.218459\n",
       "538          Nate Wolters  UTA  50000.0   10.819798        -2.218459\n",
       "539       Naz Mitrou-Long  UTA  50000.0   10.819798        -2.218459\n",
       "540          Eric Griffin  UTA  50000.0   10.819798        -2.218459\n",
       "541          Jacob Pullen  PHI  50000.0   10.819798        -2.218459\n",
       "542  James Michael McAdoo  PHI  50000.0   10.819798        -2.218459\n",
       "543           Nigel Hayes  NYK  50000.0   10.819798        -2.218459\n",
       "544           Jalen Moore  MIL  50000.0   10.819798        -2.218459\n",
       "545           Gary Payton  MIL  50000.0   10.819798        -2.218459\n",
       "546         Matt Williams  MIA  50000.0   10.819798        -2.218459\n",
       "547          Vince Hunter  MEM  50000.0   10.819798        -2.218459\n",
       "548           Vander Blue  LAL  50000.0   10.819798        -2.218459\n",
       "549          V.J. Beachem  LAL  50000.0   10.819798        -2.218459\n",
       "550         Briante Weber  LAL  50000.0   10.819798        -2.218459\n",
       "551          Jamil Wilson  LAC  50000.0   10.819798        -2.218459\n",
       "552         Briante Weber  HOU  50000.0   10.819798        -2.218459\n",
       "553          Luis Montero  DET  50000.0   10.819798        -2.218459\n",
       "554          Gian Clavell  DAL  50000.0   10.819798        -2.218459\n",
       "555    Antonius Cleveland  DAL  50000.0   10.819798        -2.218459\n",
       "556         Diamond Stone  CHI  50000.0   10.819798        -2.218459\n",
       "557       Yakuba Ouattara  BRK  50000.0   10.819798        -2.218459\n",
       "558          Jeremy Evans  ATL  50000.0   10.819798        -2.218459\n",
       "559           Nigel Hayes  LAL  46080.0   10.738156        -2.266070\n",
       "560           Nigel Hayes  TOR  46080.0   10.738156        -2.266070\n",
       "561         Rodney Purvis  ORL  46080.0   10.738156        -2.266070\n",
       "562   Xavier Rathan-Mayes  MEM  46080.0   10.738156        -2.266070\n",
       "563   Trey McKinney-Jones  IND  46080.0   10.738156        -2.266070\n",
       "564         Jameel Warney  DAL  46080.0   10.738156        -2.266070\n",
       "565       Marcus Thornton  CLE  46080.0   10.738156        -2.266070\n",
       "566       DeAndre Liggins  ATL  26773.0   10.195187        -2.582709\n",
       "567          Axel Toupane  NOP  25000.0   10.126671        -2.622664\n",
       "568            Quinn Cook  NOP  25000.0   10.126671        -2.622664\n",
       "569         Chris Johnson  HOU  25000.0   10.126671        -2.622664\n",
       "570            Beno Udrih  DET  25000.0   10.126671        -2.622664\n",
       "571         Joel Bolomboy  MIL  22248.0   10.010052        -2.690672\n",
       "572          Jarell Eddie  CHI  17224.0    9.754117        -2.839924"
      ]
     },
     "execution_count": 17,
     "metadata": {},
     "output_type": "execute_result"
    }
   ],
   "source": [
    "#Players\n",
    "df_NBA_lower = df_NBA[df_NBA['norm_log_salary'] < z_score_inf]\n",
    "df_NBA_lower\n"
   ]
  },
  {
   "cell_type": "code",
   "execution_count": 18,
   "metadata": {},
   "outputs": [
    {
     "data": {
      "text/plain": [
       "HOU    5\n",
       "DAL    5\n",
       "LAL    4\n",
       "ATL    3\n",
       "NOP    3\n",
       "MIL    3\n",
       "UTA    3\n",
       "PHI    2\n",
       "CHI    2\n",
       "MEM    2\n",
       "DET    2\n",
       "WAS    2\n",
       "POR    1\n",
       "IND    1\n",
       "MIA    1\n",
       "BRK    1\n",
       "ORL    1\n",
       "NYK    1\n",
       "LAC    1\n",
       "TOR    1\n",
       "CLE    1\n",
       "Name: team, dtype: int64"
      ]
     },
     "execution_count": 18,
     "metadata": {},
     "output_type": "execute_result"
    }
   ],
   "source": [
    "#Players by team\n",
    "team_index = df_NBA_lower['team'].value_counts()\n",
    "team_index\n"
   ]
  },
  {
   "cell_type": "code",
   "execution_count": 19,
   "metadata": {},
   "outputs": [
    {
     "data": {
      "text/plain": [
       "<matplotlib.axes._subplots.AxesSubplot at 0x24d133322c8>"
      ]
     },
     "execution_count": 19,
     "metadata": {},
     "output_type": "execute_result"
    },
    {
     "data": {
      "image/png": "[encoded data removed]",
      "text/plain": [
       "<Figure size 864x360 with 1 Axes>"
      ]
     },
     "metadata": {
      "needs_background": "light"
     },
     "output_type": "display_data"
    }
   ],
   "source": [
    "#Plot players by team\n",
    "plt.figure(figsize=(12, 5))\n",
    "sns.countplot(df_NBA_lower['team'],\n",
    "              order=team_index.index,\n",
    "              palette='Blues_r')"
   ]
  },
  {
   "cell_type": "code",
   "execution_count": 20,
   "metadata": {},
   "outputs": [
    {
     "name": "stdout",
     "output_type": "stream",
     "text": [
      "Players with a lower salary than the average: \n",
      "Total - 45\n",
      "Rate - 7.85%\n"
     ]
    }
   ],
   "source": [
    "print(f\"\"\"Players with a lower salary than the average: \n",
    "Total - {df_NBA_lower.shape[0]}\n",
    "Rate - {df_NBA_lower.shape[0] / df_NBA.shape[0] * 100:.2f}%\"\"\")\n"
   ]
  },
  {
   "cell_type": "markdown",
   "metadata": {},
   "source": [
    "Based on that Dataset we can affirm with 95% certainty that There are currently __45 players__ earning less than the average salary. This represents a total of __7.85%__.\n",
    "Therefore: **Fail to reject H0**"
   ]
  },
  {
   "cell_type": "markdown",
   "metadata": {},
   "source": [
    "### __2. Higher than the average__"
   ]
  },
  {
   "cell_type": "code",
   "execution_count": 21,
   "metadata": {},
   "outputs": [
    {
     "data": {
      "text/html": [
       "<div>\n",
       "<style scoped>\n",
       "    .dataframe tbody tr th:only-of-type {\n",
       "        vertical-align: middle;\n",
       "    }\n",
       "\n",
       "    .dataframe tbody tr th {\n",
       "        vertical-align: top;\n",
       "    }\n",
       "\n",
       "    .dataframe thead th {\n",
       "        text-align: right;\n",
       "    }\n",
       "</style>\n",
       "<table border=\"1\" class=\"dataframe\">\n",
       "  <thead>\n",
       "    <tr style=\"text-align: right;\">\n",
       "      <th></th>\n",
       "      <th>player</th>\n",
       "      <th>team</th>\n",
       "      <th>salary</th>\n",
       "      <th>salary_log</th>\n",
       "      <th>norm_log_salary</th>\n",
       "    </tr>\n",
       "  </thead>\n",
       "  <tbody>\n",
       "  </tbody>\n",
       "</table>\n",
       "</div>"
      ],
      "text/plain": [
       "Empty DataFrame\n",
       "Columns: [player, team, salary, salary_log, norm_log_salary]\n",
       "Index: []"
      ]
     },
     "execution_count": 21,
     "metadata": {},
     "output_type": "execute_result"
    }
   ],
   "source": [
    "#Players\n",
    "df_NBA_higher = df_NBA[df_NBA['norm_log_salary'] > z_score_sup]\n",
    "df_NBA_higher\n"
   ]
  },
  {
   "cell_type": "code",
   "execution_count": 22,
   "metadata": {},
   "outputs": [
    {
     "name": "stdout",
     "output_type": "stream",
     "text": [
      "Players with a higher salary than the average: \n",
      "Total - 0\n",
      "Rate - 0.00%\n"
     ]
    }
   ],
   "source": [
    "print(f\"\"\"Players with a higher salary than the average: \n",
    "Total - {df_NBA_higher.shape[0]}\n",
    "Rate - {df_NBA_higher.shape[0] / df_NBA.shape[0] * 100:.2f}%\"\"\")\n"
   ]
  },
  {
   "cell_type": "code",
   "execution_count": 23,
   "metadata": {},
   "outputs": [
    {
     "name": "stdout",
     "output_type": "stream",
     "text": [
      "P-value: 0.055\n",
      "Alpha Max: 0.945\n",
      "We can confirm that the highest salary is on the distribution!\n"
     ]
    }
   ],
   "source": [
    "#p-value and alpha max to the highest salary\n",
    "p_value = st.norm(norm_mean, norm_std).sf(df_NBA['norm_log_salary'].max())\n",
    "alpha = 1 - p_value\n",
    "print(f'P-value: {p_value:.3f}\\nAlpha Max: {alpha:.3f}\\nWe can confirm that the highest salary is on the distribution!')\n"
   ]
  },
  {
   "cell_type": "markdown",
   "metadata": {},
   "source": [
    "Based on that Dataset we can affirm with 95% certainty that currently there are __no__ players earning higher than the average salary. The highest salary is on the average distribution. Therefore: **Reject H0**"
   ]
  },
  {
   "cell_type": "code",
   "execution_count": null,
   "metadata": {},
   "outputs": [],
   "source": []
  }
 ],
 "metadata": {
  "kernelspec": {
   "display_name": "Python 3",
   "language": "python",
   "name": "python3"
  },
  "language_info": {
   "codemirror_mode": {
    "name": "ipython",
    "version": 3
   },
   "file_extension": ".py",
   "mimetype": "text/x-python",
   "name": "python",
   "nbconvert_exporter": "python",
   "pygments_lexer": "ipython3",
   "version": "3.7.4"
  }
 },
 "nbformat": 4,
 "nbformat_minor": 2
}
